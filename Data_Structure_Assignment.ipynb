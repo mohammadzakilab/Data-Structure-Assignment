{
  "nbformat": 4,
  "nbformat_minor": 0,
  "metadata": {
    "colab": {
      "provenance": []
    },
    "kernelspec": {
      "name": "python3",
      "display_name": "Python 3"
    },
    "language_info": {
      "name": "python"
    }
  },
  "cells": [
    {
      "cell_type": "markdown",
      "source": [
        "1) What are data structures, and why are they important?\n",
        "   - Data structures are ways to organize and store data so it can be used efficiently.\n",
        "   \n",
        "   Importance of Data Structures:-\n",
        "   \n",
        "   a) Manage and organize data properly.\n",
        "   \n",
        "   b) Enable fast access and processing.\n",
        "   \n",
        "   c) Optimize memory use.\n",
        "   \n",
        "   d) Support algorithms and problem-solving.\n",
        "   \n",
        "   e) Make programs scalable and efficient."
      ],
      "metadata": {
        "id": "3mzD5Emn7Voj"
      }
    },
    {
      "cell_type": "markdown",
      "source": [
        "2)  Explain the difference between mutable and immutable data types with examples.\n",
        "  - Mutable data types: Can be changed after creation (you can add, remove, or modify elements).\n",
        "  \n",
        "    Example: list, dict, set.\n",
        "\n",
        "    Immutable data types: Cannot be changed after creation (a new object is created if modified).\n",
        "\n",
        "    Example: int, float, string, tuple."
      ],
      "metadata": {
        "id": "0Oah4UVs8RBw"
      }
    },
    {
      "cell_type": "markdown",
      "source": [
        "3) What are the main differences between lists and tuples in Python?\n",
        "  - Lists in Python are mutable, meaning you can add, remove, or change elements. They are written with square brackets [ ].\n",
        "\n",
        "    Tuples are immutable, meaning once created, their elements cannot be changed. They are written with parentheses ( )."
      ],
      "metadata": {
        "id": "w6w3vnTQ9bHm"
      }
    },
    {
      "cell_type": "markdown",
      "source": [
        "4) Describe how dictionaries store data.\n",
        "  - A dictionary stores data as key–value pairs using a hash table, allowing quick access to values using their keys."
      ],
      "metadata": {
        "id": "_-aYNfq0-LkB"
      }
    },
    {
      "cell_type": "markdown",
      "source": [
        "5) Why might you use a set instead of a list in Python?\n",
        "  - We might use a set instead of a list in Python for these reasons:\n",
        "\n",
        "  a) No duplicates allowed → A set automatically removes duplicate values, while a list can contain duplicates.\n",
        "\n",
        "  b) Faster lookup → Checking if an element exists in a set is much faster (because sets use hashing) compared to a list.\n",
        "\n",
        "  c) Set operations → Sets support mathematical operations like union, intersection, and difference, which are not directly available with lists."
      ],
      "metadata": {
        "id": "b8tpL39s-mhi"
      }
    },
    {
      "cell_type": "markdown",
      "source": [
        "6. What is a string in Python, and how is it different from a list?\n",
        "   - A string is a sequence of characters enclosed in quotes (' ' or \" \").\n",
        "\n",
        "   Example: \"hello\", 'Python'.\n",
        "\n",
        "   String is different from the list because of these reasons:\n",
        "\n",
        "   1) Data type:\n",
        "      \n",
        "      String → stores characters.\n",
        "\n",
        "      List → can store mixed data types (numbers, strings, etc.).\n",
        "\n",
        "  2) Mutability:\n",
        "\n",
        "     String → immutable (cannot change characters directly).\n",
        "\n",
        "     List → mutable (elements can be changed, added, removed).\n",
        "\n",
        "  3) Syntax:\n",
        "\n",
        "     String → \"apple\"\n",
        "\n",
        "     List → [\"apple\", \"banana\", \"cherry\"]\n",
        "\n",
        "  4) Operations:\n",
        "\n",
        "     Strings → support text operations\n",
        "\n",
        "     Lists → support element operations"
      ],
      "metadata": {
        "id": "7hRQoX9G80tm"
      }
    },
    {
      "cell_type": "markdown",
      "source": [
        "7. How do tuples ensure data integrity in Python?\n",
        "   - Tuples ensure data integrity in Python because they are immutable (cannot be changed after creation). This prevents accidental modifications, makes them safe for use as dictionary keys or set elements, and keeps important data (like configurations or records) fixed and reliable."
      ],
      "metadata": {
        "id": "zRe6JlNN-ao6"
      }
    },
    {
      "cell_type": "markdown",
      "source": [
        "8. What is a hash table, and how does it relate to dictionaries in Python?\n",
        "   - Hash Table: A hash table is a data structure that stores key value pairs. It uses a hash function to convert a key into an index, which decides where the value is stored in memory. This allows fast lookups, insertions, and deletions.\n",
        "\n",
        "   Relation to Python Dictionaries:\n",
        "\n",
        "   a) In Python, a dictionary (dict) is implemented using a hash table.\n",
        "\n",
        "   b) The dictionary stores data as key value pairs, where keys are hashed to find values quickly.\n",
        "\n",
        "   c) Keys must be hashable (immutable types like strings, numbers, tuples)."
      ],
      "metadata": {
        "id": "M2A_8P5k-3gO"
      }
    },
    {
      "cell_type": "markdown",
      "source": [
        "9. Can lists contain different data types in Python?\n",
        "   - Yes, lists in Python can contain elements of different data types. A list can hold integers, strings, floats, booleans, or even other lists/tuples."
      ],
      "metadata": {
        "id": "edYoI29i_n6J"
      }
    },
    {
      "cell_type": "markdown",
      "source": [
        "10. Explain why strings are immutable in Python.\n",
        "    - Strings are immutable in Python because:\n",
        "\n",
        "    a) Memory efficiency → Python reuses string objects (string interning). If strings were mutable, changing one would affect all references.\n",
        "\n",
        "    b) Data safety → Since strings are widely used (keys in dictionaries, constants, text data), immutability prevents accidental changes.\n",
        "\n",
        "    c) Hashing requirement → Immutable objects can be hashed, so strings can be used as dictionary keys and set elements.\n",
        "\n",
        "    d) Simplicity → Makes strings reliable and predictable; once created, they never change."
      ],
      "metadata": {
        "id": "_wVIJWho_65O"
      }
    },
    {
      "cell_type": "markdown",
      "source": [
        "11. What advantages do dictionaries offer over lists for certain tasks?\n",
        "    - Dictionaries offer these advantages over lists for certain tasks:\n",
        "\n",
        "    a) Fast lookups → Accessing values by key in a dictionary is much faster than searching through a list.\n",
        "\n",
        "    b) Key–value mapping → Dictionaries let you store data with meaningful keys instead of just numeric indexes.\n",
        "\n",
        "    c)Data organization → They make data more readable and self-explanatory.\n",
        "\n",
        "    d) Uniqueness of keys → Each key is unique, which prevents duplicate identifiers for data.\n",
        "\n",
        "    e) Flexible keys → Keys can be strings, numbers, or other immutable types, unlike lists which only use index numbers."
      ],
      "metadata": {
        "id": "DIe1GW5cAYEJ"
      }
    },
    {
      "cell_type": "markdown",
      "source": [
        "12. Describe a scenario where using a tuple would be preferable over a list.\n",
        "    - A tuple is preferable over a list when you need fixed, unchangeable data. Use a tuple when the data must remain constant and secure throughout the program.\n",
        "\n",
        "    Scenario Example:\n",
        "    Storing a person’s date of birth"
      ],
      "metadata": {
        "id": "CDFQJ6IwA-kJ"
      }
    },
    {
      "cell_type": "markdown",
      "source": [
        "13. How do sets handle duplicate values in Python?\n",
        "    - Sets in Python automatically remove duplicates, keeping only unique elements."
      ],
      "metadata": {
        "id": "LnLa6caOCxO6"
      }
    },
    {
      "cell_type": "markdown",
      "source": [
        "14. How does the “in” keyword work differently for lists and dictionaries?\n",
        "    - For lists → The in keyword checks if a value exists in the list.\n",
        "\n",
        "      For dictionaries → The in keyword checks only for the keys, not the values."
      ],
      "metadata": {
        "id": "jdKERVR7DHVf"
      }
    },
    {
      "cell_type": "markdown",
      "source": [
        "15. Can you modify the elements of a tuple? Explain why or why not.\n",
        "    - No, you cannot modify the elements of a tuple in Python. Tuples are immutable, meaning once created, their elements cannot be changed, added, or removed."
      ],
      "metadata": {
        "id": "aqQknRFvDe-L"
      }
    },
    {
      "cell_type": "markdown",
      "source": [
        "16. What is a nested dictionary, and give an example of its use case?\n",
        "    - A nested dictionary is a dictionary that contains another dictionary as its value. It’s used to represent hierarchical or structured data.\n",
        "\n",
        "      Use Case: Nested dictionaries are useful for storing complex data, like databases, JSON objects, or records (e.g., student info, employee data, configuration files)."
      ],
      "metadata": {
        "id": "nnjwcampD9QN"
      }
    },
    {
      "cell_type": "markdown",
      "source": [
        "17. Describe the time complexity of accessing elements in a dictionary.\n",
        "    - Accessing elements in a dictionary (using a key) has an average time complexity of O(1)."
      ],
      "metadata": {
        "id": "xuc3eZZLEakO"
      }
    },
    {
      "cell_type": "markdown",
      "source": [
        "18. In what situations are lists preferred over dictionaries?\n",
        "    - Lists are preferred over dictionaries when:\n",
        "\n",
        "    a) Order matters → Lists maintain the order of elements, while dictionaries (before Python 3.7) did not guarantee order.\n",
        "\n",
        "    b) Simple sequences → When you just need a collection of items without key–value mapping.\n",
        "\n",
        "    c) Duplicates are allowed → Lists can store repeated values, dictionaries require unique keys.\n",
        "\n",
        "    d) Index-based access → When you want to access elements by position rather than by key.\n",
        "\n",
        "    e) Lightweight storage → For small collections where key–value pairing isn’t needed."
      ],
      "metadata": {
        "id": "EmevyQpxE-rp"
      }
    },
    {
      "cell_type": "markdown",
      "source": [
        "19. Why are dictionaries considered unordered, and how does that affect data retrieval?\n",
        "    - Dictionaries are considered unordered because, historically, they do not maintain the order of elements (keys and values) as they were added.\n",
        "\n",
        "    Effect on data retrieval: You must access values using keys, not positions or indexes."
      ],
      "metadata": {
        "id": "TZr2h76pFihl"
      }
    },
    {
      "cell_type": "markdown",
      "source": [
        "20. Explain the difference between a list and a dictionary in terms of data retrieval.\n",
        "    - Difference in data retrieval between a list and a dictionary:\n",
        "\n",
        "      List:\n",
        "\n",
        "      a) Accessed by index (position).\n",
        "\n",
        "      b) Searching for a specific value requires scanning the list → O(n) time complexity.\n",
        "\n",
        "\n",
        "      Disctionary:\n",
        "\n",
        "      a) Accessed by key (unique identifier).\n",
        "\n",
        "      b) Lookup is fast → O(1) on average, because of hash table implementation."
      ],
      "metadata": {
        "id": "qx40ck9-GGEx"
      }
    },
    {
      "cell_type": "code",
      "source": [
        "# 1. Write a code to create a string with your name and print it.\n",
        "\n",
        "name = \"Zaki\"\n",
        "print(name)"
      ],
      "metadata": {
        "colab": {
          "base_uri": "https://localhost:8080/"
        },
        "id": "HyBzfaE7G0t4",
        "outputId": "97b5deb5-08f4-4e8d-ad14-b2b3de443ad8"
      },
      "execution_count": 1,
      "outputs": [
        {
          "output_type": "stream",
          "name": "stdout",
          "text": [
            "Zaki\n"
          ]
        }
      ]
    },
    {
      "cell_type": "code",
      "execution_count": 2,
      "metadata": {
        "id": "WB22d2JA57OW",
        "colab": {
          "base_uri": "https://localhost:8080/"
        },
        "outputId": "6bccd777-1768-48ea-80eb-5cbc5b56ea23"
      },
      "outputs": [
        {
          "output_type": "stream",
          "name": "stdout",
          "text": [
            "11\n"
          ]
        }
      ],
      "source": [
        "# 2. Write a code to find the length of the string \"Hello World\".\n",
        "\n",
        "string = \"Hello World\"\n",
        "length = len(string)\n",
        "print(length)"
      ]
    },
    {
      "cell_type": "code",
      "source": [
        "# 3. Write a code to slice the first 3 characters from the string \"Python Programming\".\n",
        "\n",
        "string = \"Python Programming\"\n",
        "sliced_string = string[:3] # Slice the first 3 characters\n",
        "print(sliced_string)"
      ],
      "metadata": {
        "colab": {
          "base_uri": "https://localhost:8080/"
        },
        "id": "yPjBYU0hHmQc",
        "outputId": "99e6a478-9d92-433f-b400-ba4e1c2a82c9"
      },
      "execution_count": 3,
      "outputs": [
        {
          "output_type": "stream",
          "name": "stdout",
          "text": [
            "Pyt\n"
          ]
        }
      ]
    },
    {
      "cell_type": "code",
      "source": [
        "# 4. Write a code to convert the string \"hello\" to uppercase.\n",
        "\n",
        "text = \"hello\"\n",
        "\n",
        "# Convert to uppercase\n",
        "upper_text = text.upper()\n",
        "\n",
        "print(upper_text)"
      ],
      "metadata": {
        "colab": {
          "base_uri": "https://localhost:8080/"
        },
        "id": "p3V6p9-aIBl3",
        "outputId": "1a65475a-8d29-46da-9f28-190fff9eda13"
      },
      "execution_count": 4,
      "outputs": [
        {
          "output_type": "stream",
          "name": "stdout",
          "text": [
            "HELLO\n"
          ]
        }
      ]
    },
    {
      "cell_type": "code",
      "source": [
        "# 5. Write a code to replace the word \"apple\" with \"orange\" in the string \"I like apple\".\n",
        "\n",
        "text = \"I like apple\"\n",
        "\n",
        "# Replace \"apple\" with \"orange\"\n",
        "new_text = text.replace(\"apple\", \"orange\")\n",
        "\n",
        "print(new_text)"
      ],
      "metadata": {
        "colab": {
          "base_uri": "https://localhost:8080/"
        },
        "id": "1hCCek2ZIXJx",
        "outputId": "349a10e9-23b0-49c9-c029-f0c3c0e1b7cc"
      },
      "execution_count": 5,
      "outputs": [
        {
          "output_type": "stream",
          "name": "stdout",
          "text": [
            "I like orange\n"
          ]
        }
      ]
    },
    {
      "cell_type": "code",
      "source": [
        "# 6. Write a code to create a list with numbers 1 to 5 and print it.\n",
        "\n",
        "numbers = [1, 2, 3, 4, 5]\n",
        "print(numbers)"
      ],
      "metadata": {
        "colab": {
          "base_uri": "https://localhost:8080/"
        },
        "id": "KbsH9-swIott",
        "outputId": "3986e963-f054-4316-be67-7ee5b13f45e6"
      },
      "execution_count": 6,
      "outputs": [
        {
          "output_type": "stream",
          "name": "stdout",
          "text": [
            "[1, 2, 3, 4, 5]\n"
          ]
        }
      ]
    },
    {
      "cell_type": "code",
      "source": [
        "# 7. Write a code to append the number 10 to the list [1, 2, 3, 4].\n",
        "\n",
        "list = [1, 2, 3, 4]\n",
        "list.append(10)\n",
        "print(list)"
      ],
      "metadata": {
        "colab": {
          "base_uri": "https://localhost:8080/"
        },
        "id": "1kegWzp_I4ZW",
        "outputId": "8aca0354-7e46-42a4-de6b-f25bcd23a77a"
      },
      "execution_count": 8,
      "outputs": [
        {
          "output_type": "stream",
          "name": "stdout",
          "text": [
            "[1, 2, 3, 4, 10]\n"
          ]
        }
      ]
    },
    {
      "cell_type": "code",
      "source": [
        "# 8. Write a code to remove the number 3 from the list [1, 2, 3, 4, 5].\n",
        "\n",
        "list = [1, 2, 3, 4, 5]\n",
        "list.remove(3)\n",
        "print(list)"
      ],
      "metadata": {
        "colab": {
          "base_uri": "https://localhost:8080/"
        },
        "id": "qHXTemQiJIJI",
        "outputId": "9f763982-b86e-4fc1-f525-dcf9f3299a92"
      },
      "execution_count": 9,
      "outputs": [
        {
          "output_type": "stream",
          "name": "stdout",
          "text": [
            "[1, 2, 4, 5]\n"
          ]
        }
      ]
    },
    {
      "cell_type": "code",
      "source": [
        "# 9. Write a code to access the second element in the list ['a', 'b', 'c', 'd'].\n",
        "\n",
        "list = ['a', 'b', 'c', 'd']\n",
        "second_element = list[1]\n",
        "print(second_element)"
      ],
      "metadata": {
        "colab": {
          "base_uri": "https://localhost:8080/"
        },
        "id": "D6WPenRxJQ1n",
        "outputId": "a9109680-7aa4-40bd-add2-ca62d494addb"
      },
      "execution_count": 10,
      "outputs": [
        {
          "output_type": "stream",
          "name": "stdout",
          "text": [
            "b\n"
          ]
        }
      ]
    },
    {
      "cell_type": "code",
      "source": [
        "# 10. Write a code to reverse the list [10, 20, 30, 40, 50].\n",
        "\n",
        "numbers = [10, 20, 30, 40, 50]\n",
        "\n",
        "# Reverse the list\n",
        "numbers.reverse()\n",
        "\n",
        "print(numbers)"
      ],
      "metadata": {
        "colab": {
          "base_uri": "https://localhost:8080/"
        },
        "id": "O2RUYlzXJZlR",
        "outputId": "e1031a52-1928-4b1e-ea41-ec913ade0e2c"
      },
      "execution_count": 11,
      "outputs": [
        {
          "output_type": "stream",
          "name": "stdout",
          "text": [
            "[50, 40, 30, 20, 10]\n"
          ]
        }
      ]
    },
    {
      "cell_type": "code",
      "source": [
        "# 11. Write a code to create a tuple with the elements 100, 200, 300 and print it.\n",
        "\n",
        "my_tuple = (100, 200, 300)\n",
        "print(my_tuple)"
      ],
      "metadata": {
        "colab": {
          "base_uri": "https://localhost:8080/"
        },
        "id": "-uKUzwVeK3H8",
        "outputId": "b8722f0b-8cb9-4a9a-fe6c-e6b371947efe"
      },
      "execution_count": 12,
      "outputs": [
        {
          "output_type": "stream",
          "name": "stdout",
          "text": [
            "(100, 200, 300)\n"
          ]
        }
      ]
    },
    {
      "cell_type": "code",
      "source": [
        "#12. Write a code to access the second-to-last element of the tuple ('red', 'green', 'blue', 'yellow').\n",
        "\n",
        "colors = ('red', 'green', 'blue', 'yellow')\n",
        "second_to_last = colors[-2]\n",
        "print(second_to_last)"
      ],
      "metadata": {
        "colab": {
          "base_uri": "https://localhost:8080/"
        },
        "id": "Kf9nMWFaLAf4",
        "outputId": "788803e2-8bc8-46ab-bcf7-94de91bda8d6"
      },
      "execution_count": 13,
      "outputs": [
        {
          "output_type": "stream",
          "name": "stdout",
          "text": [
            "blue\n"
          ]
        }
      ]
    },
    {
      "cell_type": "code",
      "source": [
        "# 13. Write a code to find the minimum number in the tuple (10, 20, 5, 15).\n",
        "\n",
        "numbers = (10, 20, 5, 15)\n",
        "minimum = min(numbers)\n",
        "print(minimum)"
      ],
      "metadata": {
        "colab": {
          "base_uri": "https://localhost:8080/"
        },
        "id": "gdZY82WeLJA7",
        "outputId": "1f66dcae-b68c-4792-b4f8-020445046015"
      },
      "execution_count": 14,
      "outputs": [
        {
          "output_type": "stream",
          "name": "stdout",
          "text": [
            "5\n"
          ]
        }
      ]
    },
    {
      "cell_type": "code",
      "source": [
        "# 14. Write a code to find the index of the element \"cat\" in the tuple ('dog', 'cat', 'rabbit')\n",
        "\n",
        "animals = ('dog', 'cat', 'rabbit')\n",
        "cat_index = animals.index('cat')\n",
        "print(cat_index)"
      ],
      "metadata": {
        "colab": {
          "base_uri": "https://localhost:8080/"
        },
        "id": "p7Y1REsZLR6t",
        "outputId": "355fdcdf-8515-4c07-f907-ab7d7825599b"
      },
      "execution_count": 15,
      "outputs": [
        {
          "output_type": "stream",
          "name": "stdout",
          "text": [
            "1\n"
          ]
        }
      ]
    },
    {
      "cell_type": "code",
      "source": [
        "# 15. Write a code to create a tuple containing three different fruits and check if \"kiwi\" is in it.\n",
        "\n",
        "fruits = (\"apple\", \"banana\", \"orange\")\n",
        "is_kiwi_in_tuple = \"kiwi\" in fruits\n",
        "print(is_kiwi_in_tuple)"
      ],
      "metadata": {
        "colab": {
          "base_uri": "https://localhost:8080/"
        },
        "id": "QmcrlIBDLatM",
        "outputId": "d8dc4a94-2f5e-4030-fa06-781b0440305d"
      },
      "execution_count": 16,
      "outputs": [
        {
          "output_type": "stream",
          "name": "stdout",
          "text": [
            "False\n"
          ]
        }
      ]
    },
    {
      "cell_type": "code",
      "source": [
        "# 16. Write a code to create a set with the elements 'a', 'b', 'c' and print it.\n",
        "\n",
        "my_set = {'a', 'b', 'c'}\n",
        "print(my_set)"
      ],
      "metadata": {
        "colab": {
          "base_uri": "https://localhost:8080/"
        },
        "id": "qsYABKkqLox9",
        "outputId": "fc10678a-d9d0-4832-b371-4531e6554186"
      },
      "execution_count": 17,
      "outputs": [
        {
          "output_type": "stream",
          "name": "stdout",
          "text": [
            "{'a', 'c', 'b'}\n"
          ]
        }
      ]
    },
    {
      "cell_type": "code",
      "source": [
        "# 17. Write a code to clear all elements from the set {1, 2, 3, 4, 5}.\n",
        "\n",
        "my_set = {1, 2, 3, 4, 5}\n",
        "my_set.clear()\n",
        "print(my_set)"
      ],
      "metadata": {
        "colab": {
          "base_uri": "https://localhost:8080/"
        },
        "id": "qCENcTWiLvcR",
        "outputId": "c9ac146c-f82a-417d-d6a2-b1cc98bcc988"
      },
      "execution_count": 18,
      "outputs": [
        {
          "output_type": "stream",
          "name": "stdout",
          "text": [
            "set()\n"
          ]
        }
      ]
    },
    {
      "cell_type": "code",
      "source": [
        "# 18. Write a code to remove the element 4 from the set {1, 2, 3, 4}.\n",
        "\n",
        "my_set = {1, 2, 3, 4}\n",
        "my_set.remove(4)\n",
        "print(my_set)"
      ],
      "metadata": {
        "colab": {
          "base_uri": "https://localhost:8080/"
        },
        "id": "K-EwVxXmL1tS",
        "outputId": "65083e1e-ca6a-4a0e-ecd5-3af3907adf78"
      },
      "execution_count": 19,
      "outputs": [
        {
          "output_type": "stream",
          "name": "stdout",
          "text": [
            "{1, 2, 3}\n"
          ]
        }
      ]
    },
    {
      "cell_type": "code",
      "source": [
        "# 19. Write a code to find the union of two sets {1, 2, 3} and {3, 4, 5}.\n",
        "\n",
        "set1 = {1, 2, 3}\n",
        "set2 = {3, 4, 5}\n",
        "union_set = set1.union(set2)\n",
        "print(union_set)"
      ],
      "metadata": {
        "colab": {
          "base_uri": "https://localhost:8080/"
        },
        "id": "Op9fCobJL8-6",
        "outputId": "14f03c67-5ed3-4af2-9bbc-27a2cd750cc2"
      },
      "execution_count": 20,
      "outputs": [
        {
          "output_type": "stream",
          "name": "stdout",
          "text": [
            "{1, 2, 3, 4, 5}\n"
          ]
        }
      ]
    },
    {
      "cell_type": "code",
      "source": [
        "# 20. Write a code to find the intersection of two sets {1, 2, 3} and {2, 3, 4}.\n",
        "\n",
        "set1 = {1, 2, 3}\n",
        "set2 = {2, 3, 4}\n",
        "intersection_set = set1.intersection(set2)\n",
        "print(intersection_set)"
      ],
      "metadata": {
        "colab": {
          "base_uri": "https://localhost:8080/"
        },
        "id": "PjjShJl0MEFU",
        "outputId": "9460d81d-399d-4828-9524-263b01d6f98e"
      },
      "execution_count": 21,
      "outputs": [
        {
          "output_type": "stream",
          "name": "stdout",
          "text": [
            "{2, 3}\n"
          ]
        }
      ]
    },
    {
      "cell_type": "code",
      "source": [
        "# 21. Write a code to create a dictionary with the keys \"name\", \"age\", and \"city\", and print it.\n",
        "\n",
        "my_dict = {\n",
        "    \"name\": \"Ajay\",\n",
        "    \"age\": 25,\n",
        "    \"city\": \"Banglore\"\n",
        "}\n",
        "print(my_dict)"
      ],
      "metadata": {
        "colab": {
          "base_uri": "https://localhost:8080/"
        },
        "id": "TaG7Cvg6MJge",
        "outputId": "bca6e0ae-19a6-45cc-ad79-5d80941aa0bf"
      },
      "execution_count": 22,
      "outputs": [
        {
          "output_type": "stream",
          "name": "stdout",
          "text": [
            "{'name': 'Ajay', 'age': 25, 'city': 'Banglore'}\n"
          ]
        }
      ]
    },
    {
      "cell_type": "code",
      "source": [
        "# 22. Write a code to add a new key-value pair \"country\": \"USA\" to the dictionary {'name': 'John', 'age': 25}.\n",
        "\n",
        "person = {\"name\": \"John\", \"age\": 25}\n",
        "person[\"country\"] = \"USA\"\n",
        "print(person)"
      ],
      "metadata": {
        "colab": {
          "base_uri": "https://localhost:8080/"
        },
        "id": "OLQLlzqWMWbA",
        "outputId": "cfa72d4e-32e7-43ef-d01f-d10133b8054a"
      },
      "execution_count": 23,
      "outputs": [
        {
          "output_type": "stream",
          "name": "stdout",
          "text": [
            "{'name': 'John', 'age': 25, 'country': 'USA'}\n"
          ]
        }
      ]
    },
    {
      "cell_type": "code",
      "source": [
        "# 23. Write a code to access the value associated with the key \"name\" in the dictionary {'name': 'Alice', 'age': 30}.\n",
        "\n",
        "person = {\"name\": \"Alice\", \"age\": 30}\n",
        "name_value = person[\"name\"]\n",
        "print(name_value)"
      ],
      "metadata": {
        "colab": {
          "base_uri": "https://localhost:8080/"
        },
        "id": "SWCVmjXcM3dj",
        "outputId": "b3f405e3-5a48-4a03-fa61-f4fb276a7813"
      },
      "execution_count": 24,
      "outputs": [
        {
          "output_type": "stream",
          "name": "stdout",
          "text": [
            "Alice\n"
          ]
        }
      ]
    },
    {
      "cell_type": "code",
      "source": [
        "# 24. Write a code to remove the key \"age\" from the dictionary {'name': 'Bob', 'age': 22, 'city': 'New York'}.\n",
        "\n",
        "person = {\"name\": \"Bob\", \"age\": 22, \"city\": \"New York\"}\n",
        "del person[\"age\"]\n",
        "print(person)"
      ],
      "metadata": {
        "colab": {
          "base_uri": "https://localhost:8080/"
        },
        "id": "c8UF198ANNLY",
        "outputId": "fb6d02f2-6cf3-4646-ee14-1b87dd97352d"
      },
      "execution_count": 25,
      "outputs": [
        {
          "output_type": "stream",
          "name": "stdout",
          "text": [
            "{'name': 'Bob', 'city': 'New York'}\n"
          ]
        }
      ]
    },
    {
      "cell_type": "code",
      "source": [
        "# 25. Write a code to check if the key \"city\" exists in the dictionary {'name': 'Alice', 'city': 'Paris'}.\n",
        "\n",
        "person = {\"name\": \"Alice\", \"city\": \"Paris\"}\n",
        "city_exists = \"city\" in person\n",
        "print(city_exists)"
      ],
      "metadata": {
        "colab": {
          "base_uri": "https://localhost:8080/"
        },
        "id": "1hO6MdRGNUgG",
        "outputId": "cb6770f3-7b9a-4839-eb72-a1d25f2101ac"
      },
      "execution_count": 26,
      "outputs": [
        {
          "output_type": "stream",
          "name": "stdout",
          "text": [
            "True\n"
          ]
        }
      ]
    },
    {
      "cell_type": "code",
      "source": [
        "# 26. Write a code to create a list, a tuple, and a dictionary, and print them all.\n",
        "\n",
        "my_list = [1, 2, 3, 4, 5]\n",
        "my_tuple = (10, 20, 30)\n",
        "my_dict = {\"name\": \"John\", \"age\": 25}\n",
        "\n",
        "print(\"List:\", my_list)\n",
        "print(\"Tuple:\", my_tuple)\n",
        "print(\"Dictionary:\", my_dict)"
      ],
      "metadata": {
        "colab": {
          "base_uri": "https://localhost:8080/"
        },
        "id": "nmuKD8uaNciJ",
        "outputId": "152b4762-ea68-4fac-ff9c-82a0568dc749"
      },
      "execution_count": 27,
      "outputs": [
        {
          "output_type": "stream",
          "name": "stdout",
          "text": [
            "List: [1, 2, 3, 4, 5]\n",
            "Tuple: (10, 20, 30)\n",
            "Dictionary: {'name': 'John', 'age': 25}\n"
          ]
        }
      ]
    },
    {
      "cell_type": "code",
      "source": [
        "# 27. Write a code to create a list of 5 random numbers between 1 and 100, sort it in ascending order, and print the  result.(replaced)\n",
        "\n",
        "import random\n",
        "\n",
        "# Create a list of 5 random numbers between 1 and 100\n",
        "random_numbers = [random.randint(1, 100) for _ in range(5)]\n",
        "\n",
        "# Sort the list in ascending order\n",
        "random_numbers.sort()\n",
        "\n",
        "# Print the result\n",
        "print(random_numbers)"
      ],
      "metadata": {
        "colab": {
          "base_uri": "https://localhost:8080/"
        },
        "id": "u0ve9zmAN72T",
        "outputId": "db353f26-3d04-49c1-c0ca-721e71ee3589"
      },
      "execution_count": 28,
      "outputs": [
        {
          "output_type": "stream",
          "name": "stdout",
          "text": [
            "[2, 32, 75, 82, 90]\n"
          ]
        }
      ]
    },
    {
      "cell_type": "code",
      "source": [
        "# 28. Write a code to create a list with strings and print the element at the third index.\n",
        "\n",
        "my_list = [\"apple\", \"banana\", \"cherry\", \"date\", \"elderberry\"]\n",
        "third_element = my_list[2]\n",
        "print(third_element)"
      ],
      "metadata": {
        "colab": {
          "base_uri": "https://localhost:8080/"
        },
        "id": "qM6zzdFIO08p",
        "outputId": "b4c70f9a-3edd-4969-e9e5-281bf3a356f7"
      },
      "execution_count": 29,
      "outputs": [
        {
          "output_type": "stream",
          "name": "stdout",
          "text": [
            "cherry\n"
          ]
        }
      ]
    },
    {
      "cell_type": "code",
      "metadata": {
        "colab": {
          "base_uri": "https://localhost:8080/"
        },
        "id": "977c5662",
        "outputId": "be97bd44-e133-44f7-dc00-0b3cddd3a704"
      },
      "source": [
        "#29. Write a code to combine two dictionaries into one and print the result.\n",
        "\n",
        "dict1 = {\"a\": 1, \"b\": 2}\n",
        "dict2 = {\"c\": 3, \"d\": 4}\n",
        "\n",
        "combined_dict = {**dict1, **dict2}\n",
        "\n",
        "print(combined_dict)"
      ],
      "execution_count": 30,
      "outputs": [
        {
          "output_type": "stream",
          "name": "stdout",
          "text": [
            "{'a': 1, 'b': 2, 'c': 3, 'd': 4}\n"
          ]
        }
      ]
    },
    {
      "cell_type": "code",
      "source": [
        "# 30. Write a code to convert a list of strings into a set.\n",
        "\n",
        "string_list = [\"apple\", \"banana\", \"date\", \"orange\"]\n",
        "string_set = set(string_list)\n",
        "print(string_set)"
      ],
      "metadata": {
        "colab": {
          "base_uri": "https://localhost:8080/"
        },
        "id": "AXmSs7SrPLqS",
        "outputId": "11568e12-8850-4827-9ab3-90b27844d7fc"
      },
      "execution_count": 31,
      "outputs": [
        {
          "output_type": "stream",
          "name": "stdout",
          "text": [
            "{'apple', 'orange', 'banana', 'date'}\n"
          ]
        }
      ]
    }
  ]
}